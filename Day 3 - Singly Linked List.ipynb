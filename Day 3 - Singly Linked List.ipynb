{
 "cells": [
  {
   "cell_type": "raw",
   "id": "bfb218c6-bf47-4511-b77d-39017bc36738",
   "metadata": {},
   "source": [
    "https://files.prepinsta.com/wp-content/uploads/2023/02/Singly-linked-list-in-C-1-1.webp"
   ]
  },
  {
   "cell_type": "code",
   "execution_count": 21,
   "id": "1a91f498-d2c3-475b-bc21-508011930d15",
   "metadata": {},
   "outputs": [],
   "source": [
    "#Singly Linked List\n",
    "\n",
    "class Node:\n",
    "    def __init__(self, item=None, next=None):\n",
    "        self.item = item\n",
    "        self.next = next\n",
    "\n",
    "class SSL: \n",
    "    def __init__(self, start=None):\n",
    "        self.start = None\n",
    "\n",
    "    def is_empty(self):\n",
    "        return self.start == None\n",
    "\n",
    "    def insert_at_start(self, data):\n",
    "        n = Node(item=data, next=self.start)\n",
    "        self.start = n\n",
    "\n",
    "    def insert_at_last(self, data):\n",
    "        n = Node(item=data)\n",
    "        if not self.is_empty():\n",
    "            temp = self.start\n",
    "            while temp.next is not None:\n",
    "                temp = temp.next\n",
    "            temp.next = n\n",
    "        else:\n",
    "            self.start = n\n",
    "\n",
    "    def search(self, data):\n",
    "        temp = self.start\n",
    "        while temp is not None:\n",
    "            if temp.item == data:\n",
    "                return temp\n",
    "            temp = temp.next\n",
    "        return None\n",
    "\n",
    "    def insert_after(self, temp, data):\n",
    "        if temp is not None:\n",
    "            n = Node(item=data, next=temp.next)\n",
    "            temp.next = n\n",
    "\n",
    "    def print_list(self):\n",
    "        temp = self.start\n",
    "        while temp is not None:\n",
    "            print(temp.item, end=\" \")\n",
    "            temp = temp.next\n",
    "\n",
    "    #Delete\n",
    "    def delete_first(self):\n",
    "        if self.start is not None:\n",
    "            self.start = self.start.next\n",
    "\n",
    "    def delete_last(self):\n",
    "        if self.start is None:\n",
    "            pass\n",
    "        elif self.start.next is None:\n",
    "            self.start=None\n",
    "        else:\n",
    "            temp = self.start\n",
    "            while temp.next.next is not None:\n",
    "                temp = temp.next\n",
    "            temp.next = None\n",
    "\n",
    "    def delete_item(self, data):\n",
    "        if self.start is None:\n",
    "            pass\n",
    "        elif self.start.next is None:\n",
    "            if self.start.item==data:\n",
    "                self.start = None\n",
    "        else:\n",
    "            temp = self.start\n",
    "            if temp.item==data:\n",
    "                self.start=temp.next\n",
    "            else:\n",
    "                while temp.next is not None:\n",
    "                    if temp.next.item==data:\n",
    "                        temp.next=temp.next.next\n",
    "                        break\n",
    "                    temp = temp.next\n",
    "\n",
    "    def __iter__(self):\n",
    "        return SSLIterator(self.start)\n",
    "\n",
    "class SSLIterator:\n",
    "    def __init__(self, current):\n",
    "        self.current = current\n",
    "\n",
    "    def __iter__(self):\n",
    "        return self\n",
    "\n",
    "    def __next__(self):\n",
    "        if not self.current:\n",
    "            raise StopIteration\n",
    "        data = self.current.item\n",
    "        self.current = self.current.next\n",
    "        return data"
   ]
  },
  {
   "cell_type": "code",
   "execution_count": 23,
   "id": "48e80b8b-4eaf-46e0-a319-bbb3bb43a570",
   "metadata": {},
   "outputs": [
    {
     "name": "stdout",
     "output_type": "stream",
     "text": [
      "44 20 80 "
     ]
    }
   ],
   "source": [
    "myList = SSL()\n",
    "myList.insert_at_start(20)\n",
    "myList.insert_at_start(44)\n",
    "myList.insert_at_last(80)\n",
    "myList.print_list()"
   ]
  },
  {
   "cell_type": "code",
   "execution_count": 25,
   "id": "47f8575c-31b6-4630-9af2-d281db7f9421",
   "metadata": {},
   "outputs": [
    {
     "name": "stdout",
     "output_type": "stream",
     "text": [
      "40 44 20 11 80 60 "
     ]
    }
   ],
   "source": [
    "myList.insert_at_start(40)\n",
    "myList.insert_after(myList.search(20), 11)\n",
    "myList.insert_at_last(60)\n",
    "myList.print_list()"
   ]
  },
  {
   "cell_type": "code",
   "execution_count": 27,
   "id": "18da8a8d-fc17-4a8c-b076-583d829a155f",
   "metadata": {},
   "outputs": [
    {
     "name": "stdout",
     "output_type": "stream",
     "text": [
      "40 44 20 80 60 "
     ]
    }
   ],
   "source": [
    "#delete any\n",
    "myList.delete_item(11)\n",
    "myList.print_list()"
   ]
  },
  {
   "cell_type": "code",
   "execution_count": 13,
   "id": "b0229b88-656d-4ec7-9539-6b07260a3af4",
   "metadata": {},
   "outputs": [
    {
     "name": "stdout",
     "output_type": "stream",
     "text": [
      "44 20 80 60 "
     ]
    }
   ],
   "source": [
    "#delete first\n",
    "myList.delete_first()\n",
    "myList.print_list()"
   ]
  },
  {
   "cell_type": "code",
   "execution_count": 15,
   "id": "677751af-c437-4c98-9a6b-ecf89549759b",
   "metadata": {},
   "outputs": [
    {
     "name": "stdout",
     "output_type": "stream",
     "text": [
      "44 20 80 "
     ]
    }
   ],
   "source": [
    "#delete last\n",
    "myList.delete_last()\n",
    "myList.print_list()"
   ]
  },
  {
   "cell_type": "code",
   "execution_count": 29,
   "id": "231294cf-b878-4f77-862f-aaf0cb7772ae",
   "metadata": {},
   "outputs": [
    {
     "name": "stdout",
     "output_type": "stream",
     "text": [
      "40 44 20 80 60 "
     ]
    }
   ],
   "source": [
    "myList.print_list()"
   ]
  },
  {
   "cell_type": "code",
   "execution_count": 31,
   "id": "5ce2a574-68d8-4bd4-b1a3-058ae5f93c32",
   "metadata": {},
   "outputs": [
    {
     "name": "stdout",
     "output_type": "stream",
     "text": [
      "40 44 20 80 60 "
     ]
    }
   ],
   "source": [
    "for x in myList:\n",
    "    print(x, end=\" \")"
   ]
  },
  {
   "cell_type": "code",
   "execution_count": null,
   "id": "32a628c8-817b-40c4-9ad9-644583d054bd",
   "metadata": {},
   "outputs": [],
   "source": []
  },
  {
   "cell_type": "code",
   "execution_count": null,
   "id": "89703c9e-6e96-461e-869f-9724e5e1cb85",
   "metadata": {},
   "outputs": [],
   "source": []
  },
  {
   "cell_type": "code",
   "execution_count": null,
   "id": "4a29c43c-4090-4346-b342-d03546da0029",
   "metadata": {},
   "outputs": [],
   "source": []
  },
  {
   "cell_type": "code",
   "execution_count": 273,
   "id": "ab508501-8e00-4d34-a157-77254b746124",
   "metadata": {},
   "outputs": [],
   "source": [
    "class Node:\n",
    "    def __init__(self, item=None, next=None):\n",
    "        self.item = item\n",
    "        self.next = next\n",
    "\n",
    "class SSL:\n",
    "    def __init__(self, start=None):\n",
    "        self.start = start\n",
    "\n",
    "    def isEmpty(self):\n",
    "        return self.start == None\n",
    "\n",
    "    def insert_at_start(self, data):\n",
    "        n = Node(item=data, next=self.start)\n",
    "        self.start = n\n",
    "\n",
    "    def insert_at_last(self, data):\n",
    "        n = Node(item=data)\n",
    "        if not self.isEmpty():\n",
    "            temp = self.start\n",
    "            while temp.next is not None:\n",
    "                temp = temp.next\n",
    "            temp.next = n\n",
    "        else:\n",
    "            self.start = n\n",
    "\n",
    "    def displayList(self):\n",
    "        temp = self.start\n",
    "        while temp is not None:\n",
    "            print(temp.item, end=\" \")\n",
    "            temp = temp.next\n",
    "\n",
    "    def search(self, data):\n",
    "        temp = self.start\n",
    "        while temp is not None:\n",
    "            if temp.item == data:\n",
    "                return temp\n",
    "            temp = temp.next\n",
    "        return None\n",
    "\n",
    "    def insert_after(self, temp, data):\n",
    "        if temp is not None:\n",
    "            n = Node(data, temp.next)\n",
    "            temp.next = n\n",
    "\n",
    "    def delete_first(self):\n",
    "        if self.start is not None:\n",
    "            self.start = self.start.next\n",
    "\n",
    "    def delete_last(self):\n",
    "        if self.start is None:\n",
    "            pass\n",
    "        elif self.start.next is None:\n",
    "            self.start = None\n",
    "        else:\n",
    "            temp = self.start\n",
    "            while temp.next.next is not None:\n",
    "                temp = temp.next\n",
    "            temp.next = None\n",
    "\n",
    "    def delete_item(self, data):\n",
    "        if self.start is None:\n",
    "            pass\n",
    "        elif self.start.next is None:\n",
    "            if self.start.item == data:\n",
    "                self.start = None\n",
    "        else:\n",
    "            temp = self.start\n",
    "            while temp.next is not None:\n",
    "                if temp.next.item == data:\n",
    "                    temp.next = temp.next.next\n",
    "                    break\n",
    "                temp = temp.next \n",
    "\n",
    "    def __iter__(self):\n",
    "        return SSLIterator(self.start)\n",
    "\n",
    "class SSLIterator:\n",
    "    def __init__(self, current):\n",
    "        self.current = current\n",
    "\n",
    "    def __iter__(self):\n",
    "        return self\n",
    "\n",
    "    def __next__(self):\n",
    "        if not self.current:\n",
    "            raise StopIteration\n",
    "        data = self.current.item\n",
    "        self.current = self.current.next\n",
    "        return data\n",
    "                "
   ]
  },
  {
   "cell_type": "code",
   "execution_count": 275,
   "id": "fcc3ffeb-65c9-45b2-8e0a-5bfb2f76bac2",
   "metadata": {},
   "outputs": [],
   "source": [
    "myList = SSL()\n",
    "myList.insert_at_start(30)\n",
    "myList.insert_at_start(95)\n",
    "myList.insert_at_start(8)\n",
    "myList.insert_at_start(65)"
   ]
  },
  {
   "cell_type": "code",
   "execution_count": 277,
   "id": "67974823-166d-49ca-98b4-b4a230f29571",
   "metadata": {},
   "outputs": [
    {
     "name": "stdout",
     "output_type": "stream",
     "text": [
      "65 8 95 47 30 35 "
     ]
    }
   ],
   "source": [
    "myList.insert_at_last(35)\n",
    "myList.insert_after(myList.search(95), 47)\n",
    "myList.displayList()\n"
   ]
  },
  {
   "cell_type": "code",
   "execution_count": 279,
   "id": "e306217b-8bd1-4462-954d-05d92e5ede11",
   "metadata": {},
   "outputs": [
    {
     "name": "stdout",
     "output_type": "stream",
     "text": [
      "8 95 47 30 35 35 "
     ]
    }
   ],
   "source": [
    "myList.delete_first()\n",
    "myList.insert_at_last(35)\n",
    "myList.displayList()"
   ]
  },
  {
   "cell_type": "code",
   "execution_count": 281,
   "id": "1ec408b3-d7b2-4bf1-aa83-9b36ad405d6b",
   "metadata": {},
   "outputs": [
    {
     "name": "stdout",
     "output_type": "stream",
     "text": [
      "8 95 47 30 35 "
     ]
    }
   ],
   "source": [
    "myList.delete_last()\n",
    "myList.displayList()"
   ]
  },
  {
   "cell_type": "code",
   "execution_count": 283,
   "id": "9edd3792-1f68-417b-a286-aebeeb3fe031",
   "metadata": {},
   "outputs": [
    {
     "name": "stdout",
     "output_type": "stream",
     "text": [
      "8 95 30 35 "
     ]
    }
   ],
   "source": [
    "myList.delete_item(47)\n",
    "myList.displayList()"
   ]
  },
  {
   "cell_type": "code",
   "execution_count": 285,
   "id": "35823f4e-5dd8-4c48-b34d-d46130d18dcd",
   "metadata": {},
   "outputs": [
    {
     "name": "stdout",
     "output_type": "stream",
     "text": [
      "8 95 30 35 "
     ]
    }
   ],
   "source": [
    "for x in myList:\n",
    "    print(x, end=\" \")"
   ]
  },
  {
   "cell_type": "code",
   "execution_count": null,
   "id": "f893373a-9282-4b57-b690-6553d5d2b435",
   "metadata": {},
   "outputs": [],
   "source": []
  },
  {
   "cell_type": "code",
   "execution_count": null,
   "id": "05fd4599-ee04-4964-a0eb-a27b10f4fd67",
   "metadata": {},
   "outputs": [],
   "source": []
  },
  {
   "cell_type": "code",
   "execution_count": null,
   "id": "cbbdcb8e-a9e6-4e11-bc80-a7f42751ac85",
   "metadata": {},
   "outputs": [],
   "source": []
  },
  {
   "cell_type": "code",
   "execution_count": 161,
   "id": "744426d8-a438-47ae-975b-364aab429ff7",
   "metadata": {},
   "outputs": [],
   "source": [
    "myList = SSL()\n",
    "myList.insert_at_start(30)\n",
    "myList.insert_at_start(10)"
   ]
  },
  {
   "cell_type": "code",
   "execution_count": 163,
   "id": "1e6d025b-91d4-45c9-8587-d5e596a54f38",
   "metadata": {},
   "outputs": [
    {
     "name": "stdout",
     "output_type": "stream",
     "text": [
      "10 30 5 "
     ]
    }
   ],
   "source": [
    "myList.insert_at_last(5)\n",
    "myList.insert_after(myList.search(15), 80)\n",
    "myList.displayList()\n"
   ]
  },
  {
   "cell_type": "code",
   "execution_count": null,
   "id": "3d8e31ee-6950-476d-a030-b1a657ff49ec",
   "metadata": {},
   "outputs": [],
   "source": []
  },
  {
   "cell_type": "code",
   "execution_count": null,
   "id": "c70c699b-3f4e-416f-96f1-a42b5c4d7186",
   "metadata": {},
   "outputs": [],
   "source": []
  },
  {
   "cell_type": "code",
   "execution_count": null,
   "id": "be537753-33a3-4d82-a67c-a90a73ee62c8",
   "metadata": {},
   "outputs": [],
   "source": []
  },
  {
   "cell_type": "code",
   "execution_count": null,
   "id": "e6b8b952-a888-4ca4-8acb-5a7896b23972",
   "metadata": {},
   "outputs": [],
   "source": []
  },
  {
   "cell_type": "code",
   "execution_count": null,
   "id": "951de81f-e8ff-4108-81d6-ea8a6e2f388e",
   "metadata": {},
   "outputs": [],
   "source": []
  }
 ],
 "metadata": {
  "kernelspec": {
   "display_name": "Python 3 (ipykernel)",
   "language": "python",
   "name": "python3"
  },
  "language_info": {
   "codemirror_mode": {
    "name": "ipython",
    "version": 3
   },
   "file_extension": ".py",
   "mimetype": "text/x-python",
   "name": "python",
   "nbconvert_exporter": "python",
   "pygments_lexer": "ipython3",
   "version": "3.12.4"
  }
 },
 "nbformat": 4,
 "nbformat_minor": 5
}
