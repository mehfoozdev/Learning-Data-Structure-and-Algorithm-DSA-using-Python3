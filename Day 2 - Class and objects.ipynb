{
 "cells": [
  {
   "cell_type": "code",
   "execution_count": 1,
   "id": "6ed6b462-a706-473f-a3a7-e35df7272bc0",
   "metadata": {},
   "outputs": [],
   "source": [
    "class Test:\n",
    "    def __init__(self):\n",
    "        self.a = 5\n",
    "        self.b = 6\n",
    "\n"
   ]
  },
  {
   "cell_type": "code",
   "execution_count": 3,
   "id": "0d8f5b9b-aabf-46c0-a87a-fd839be39b29",
   "metadata": {},
   "outputs": [],
   "source": [
    "t1 = Test()\n",
    "t2 = Test()"
   ]
  },
  {
   "cell_type": "code",
   "execution_count": 7,
   "id": "aa98d22a-5026-4bfd-a02c-62ee294c5e1b",
   "metadata": {},
   "outputs": [
    {
     "name": "stdout",
     "output_type": "stream",
     "text": [
      "5 6\n",
      "5 6\n"
     ]
    }
   ],
   "source": [
    "print(t1.a,t1.b)\n",
    "print(t2.a,t2.b)"
   ]
  },
  {
   "cell_type": "code",
   "execution_count": 13,
   "id": "116f84f8-161e-4fff-9520-7fed0f2b2791",
   "metadata": {},
   "outputs": [],
   "source": [
    "class Test:\n",
    "    def __init__(self,a,b):\n",
    "        self.a = a\n",
    "        self.b = b \n",
    "\n",
    "t1 = Test(4,6)\n",
    "t2 = Test(2,3)"
   ]
  },
  {
   "cell_type": "code",
   "execution_count": 19,
   "id": "8b9e6141-4296-472e-9994-252af0f60581",
   "metadata": {},
   "outputs": [
    {
     "name": "stdout",
     "output_type": "stream",
     "text": [
      "4 6\n",
      "2 3\n"
     ]
    }
   ],
   "source": [
    "print(t1.a, t1.b)\n",
    "print(t2.a, t2.b)\n"
   ]
  },
  {
   "cell_type": "code",
   "execution_count": 21,
   "id": "d02fb358-d336-4c17-aabf-f6a106994d28",
   "metadata": {},
   "outputs": [],
   "source": [
    "class Test:\n",
    "    x = 5\n",
    "\n",
    "    def __init__(self, a, b):\n",
    "        self.a = a\n",
    "        self.b = b\n",
    "\n",
    "    def show(self):\n",
    "        return f\"{self.a}, {self.b}\"\n",
    "\n",
    "    def cls1(cls):\n",
    "        return f\"{cls.x}\"\n",
    "\n",
    "    def static1():\n",
    "        return \"Static method\""
   ]
  },
  {
   "cell_type": "code",
   "execution_count": 25,
   "id": "f51b7668-3971-4904-a6a6-17f3590be23f",
   "metadata": {},
   "outputs": [],
   "source": [
    "t1 = Test(4,6)\n",
    "t2 = Test(20,30)"
   ]
  },
  {
   "cell_type": "code",
   "execution_count": 45,
   "id": "6a45a42c-f3ba-44bc-a84f-01ea94f84310",
   "metadata": {},
   "outputs": [
    {
     "name": "stdout",
     "output_type": "stream",
     "text": [
      "4, 6\n",
      "20, 30\n",
      "\n",
      "5\n"
     ]
    }
   ],
   "source": [
    "print(t1.show())\n",
    "print(t2.show())\n",
    "\n",
    "print()\n",
    "\n",
    "print(t1.cls1())"
   ]
  },
  {
   "cell_type": "code",
   "execution_count": 47,
   "id": "465fc035-daf8-41b7-b74e-ad80f99ae7e1",
   "metadata": {},
   "outputs": [
    {
     "name": "stdout",
     "output_type": "stream",
     "text": [
      "Static method\n"
     ]
    }
   ],
   "source": [
    "print(Test.static1())"
   ]
  },
  {
   "cell_type": "code",
   "execution_count": null,
   "id": "425cfb6f-02eb-4e08-8d55-f574f4b71363",
   "metadata": {},
   "outputs": [],
   "source": []
  },
  {
   "cell_type": "code",
   "execution_count": null,
   "id": "64e019c7-cdd3-40ee-acf9-5ad0f33692cb",
   "metadata": {},
   "outputs": [],
   "source": []
  },
  {
   "cell_type": "code",
   "execution_count": 59,
   "id": "8b08943a-f54a-447c-ac4f-a3163d6d7af9",
   "metadata": {},
   "outputs": [],
   "source": [
    "#Employee\n",
    "class Employee:\n",
    "    def __init__(self, empid=None, name=None, salary=None):\n",
    "        self.empid = empid\n",
    "        self.name = name\n",
    "        self.salary = salary\n",
    "\n",
    "    def setEmpid(self, empid):\n",
    "        self.empid = empid\n",
    "\n",
    "    def setName(self, name):\n",
    "        self.name = name\n",
    "\n",
    "    def setSalary(self, salary):\n",
    "        self.salary = salary\n",
    "\n",
    "    def getEmpid(self):\n",
    "        return self.empid\n",
    "\n",
    "    def getName(self):\n",
    "        return self.name\n",
    "\n",
    "    def getSalary(self):\n",
    "        return self.salary\n",
    "\n"
   ]
  },
  {
   "cell_type": "code",
   "execution_count": 61,
   "id": "dc3fb380-015c-41c8-8a8c-ec7cd4d13f44",
   "metadata": {},
   "outputs": [
    {
     "name": "stdout",
     "output_type": "stream",
     "text": [
      "44 Rauf Khan 120000\n",
      "47 Mehfooz Ali 85000\n"
     ]
    }
   ],
   "source": [
    "e1 = Employee()\n",
    "e2 = Employee(47, \"Mehfooz Ali\", 85000)\n",
    "\n",
    "e1.setEmpid(44)\n",
    "e1.setName(\"Rauf Khan\")\n",
    "e1.setSalary(120000)\n",
    "\n",
    "print(e1.getEmpid(), e1.getName(), e1.getSalary())\n",
    "print(e2.getEmpid(), e2.getName(), e2.getSalary())"
   ]
  },
  {
   "cell_type": "code",
   "execution_count": null,
   "id": "6fedbe26-841f-4143-b11f-e6aeb9f0cf9d",
   "metadata": {},
   "outputs": [],
   "source": []
  }
 ],
 "metadata": {
  "kernelspec": {
   "display_name": "Python 3 (ipykernel)",
   "language": "python",
   "name": "python3"
  },
  "language_info": {
   "codemirror_mode": {
    "name": "ipython",
    "version": 3
   },
   "file_extension": ".py",
   "mimetype": "text/x-python",
   "name": "python",
   "nbconvert_exporter": "python",
   "pygments_lexer": "ipython3",
   "version": "3.12.4"
  }
 },
 "nbformat": 4,
 "nbformat_minor": 5
}
