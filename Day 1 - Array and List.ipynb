{
 "cells": [
  {
   "cell_type": "code",
   "execution_count": 5,
   "id": "8d77f93e-07d4-42a0-8190-34ad548a375b",
   "metadata": {},
   "outputs": [],
   "source": [
    "from array import *"
   ]
  },
  {
   "cell_type": "code",
   "execution_count": 27,
   "id": "7a647dfb-9405-42aa-8074-3a568e0a3051",
   "metadata": {},
   "outputs": [
    {
     "name": "stdout",
     "output_type": "stream",
     "text": [
      "0\n",
      "<class 'array.array'>\n",
      "20\n",
      "15\n",
      "45\n"
     ]
    }
   ],
   "source": [
    "a = array('i', [20,15,45])\n",
    "print(a.count(a))\n",
    "print(type(a))\n",
    "\n",
    "for x in a:\n",
    "    print(x)"
   ]
  },
  {
   "cell_type": "code",
   "execution_count": 29,
   "id": "e3a637b0-a36b-4e73-9474-1092308fd9cf",
   "metadata": {},
   "outputs": [
    {
     "data": {
      "text/plain": [
       "array('i', [20, 15, 45, 50])"
      ]
     },
     "execution_count": 29,
     "metadata": {},
     "output_type": "execute_result"
    }
   ],
   "source": [
    "a.append(50)\n",
    "a"
   ]
  },
  {
   "cell_type": "code",
   "execution_count": 31,
   "id": "4982750a-a189-4085-b70d-e75ecb1a0c01",
   "metadata": {},
   "outputs": [
    {
     "data": {
      "text/plain": [
       "1"
      ]
     },
     "execution_count": 31,
     "metadata": {},
     "output_type": "execute_result"
    }
   ],
   "source": [
    "a.count(20)"
   ]
  },
  {
   "cell_type": "code",
   "execution_count": 33,
   "id": "0c83fe28-8757-45b1-bd77-a00e551f7d3d",
   "metadata": {},
   "outputs": [
    {
     "data": {
      "text/plain": [
       "0"
      ]
     },
     "execution_count": 33,
     "metadata": {},
     "output_type": "execute_result"
    }
   ],
   "source": [
    "a.count(156)"
   ]
  },
  {
   "cell_type": "code",
   "execution_count": 35,
   "id": "63dc0f59-efaf-4f9d-b809-47e995c28bb5",
   "metadata": {},
   "outputs": [
    {
     "data": {
      "text/plain": [
       "2"
      ]
     },
     "execution_count": 35,
     "metadata": {},
     "output_type": "execute_result"
    }
   ],
   "source": [
    "a.index(45)"
   ]
  },
  {
   "cell_type": "code",
   "execution_count": 37,
   "id": "9f155b81-186c-4106-9486-b09483939352",
   "metadata": {},
   "outputs": [
    {
     "data": {
      "text/plain": [
       "50"
      ]
     },
     "execution_count": 37,
     "metadata": {},
     "output_type": "execute_result"
    }
   ],
   "source": [
    "a.pop()"
   ]
  },
  {
   "cell_type": "code",
   "execution_count": 39,
   "id": "92e68dc1-e2f7-4b33-93e8-5a5482411200",
   "metadata": {},
   "outputs": [
    {
     "data": {
      "text/plain": [
       "array('i', [20, 15, 45])"
      ]
     },
     "execution_count": 39,
     "metadata": {},
     "output_type": "execute_result"
    }
   ],
   "source": [
    "a"
   ]
  },
  {
   "cell_type": "code",
   "execution_count": null,
   "id": "13c954b8-d601-4aff-a716-7403da0b85a8",
   "metadata": {},
   "outputs": [],
   "source": [
    " "
   ]
  }
 ],
 "metadata": {
  "kernelspec": {
   "display_name": "Python 3 (ipykernel)",
   "language": "python",
   "name": "python3"
  },
  "language_info": {
   "codemirror_mode": {
    "name": "ipython",
    "version": 3
   },
   "file_extension": ".py",
   "mimetype": "text/x-python",
   "name": "python",
   "nbconvert_exporter": "python",
   "pygments_lexer": "ipython3",
   "version": "3.12.4"
  }
 },
 "nbformat": 4,
 "nbformat_minor": 5
}
