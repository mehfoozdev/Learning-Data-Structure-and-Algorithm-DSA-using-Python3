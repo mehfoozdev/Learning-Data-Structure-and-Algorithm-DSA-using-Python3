{
 "cells": [
  {
   "cell_type": "code",
   "execution_count": 9,
   "id": "e3130703-a992-4e1b-b46e-b6aed8da6807",
   "metadata": {},
   "outputs": [],
   "source": [
    "class Node:\n",
    "    def __init__(self, item=None, prev=None, next=None): \n",
    "        self.item = item\n",
    "        self.prev = prev\n",
    "        self.next = next\n",
    "\n",
    "class DLL:\n",
    "    def __init__(self, start=None):\n",
    "        self.start = start\n",
    "    \n",
    "    def isempty(self):\n",
    "        return self.start == None\n",
    "        \n",
    "    def insert_at_first(self, data):\n",
    "        n = Node(item=data, next=self.start)\n",
    "        if not self.isempty():\n",
    "            self.start.prev = n\n",
    "        self.start = n\n",
    "\n",
    "    def insert_at_last(self, data):\n",
    "        temp = self.start\n",
    "        if temp is not None:\n",
    "            while temp.next is not None:\n",
    "                temp = temp.next\n",
    "        n = Node(item=data, prev=temp)\n",
    "        if temp == None:\n",
    "            self.start = n\n",
    "        else:\n",
    "            temp.next = n\n",
    "\n",
    "    def search(self, data):\n",
    "        temp = self.start\n",
    "        while temp is not None:\n",
    "            if temp.item == data:\n",
    "                return temp\n",
    "            temp = temp.next\n",
    "        return None\n",
    "\n",
    "    def display_all(self):\n",
    "        temp = self.start\n",
    "        while temp is not None:\n",
    "            print(temp.item, end=\" \")\n",
    "            temp = temp.next \n",
    "\n",
    "    def insert_after(self, temp, data):\n",
    "        if temp is not None:\n",
    "            n = Node(item=data, prev=temp, next=temp.next)\n",
    "            if temp.next is not None:\n",
    "                temp.next.prev = n\n",
    "            temp.next = n\n",
    "\n",
    "    def delete_first(self): \n",
    "        if self.start is not None:\n",
    "            self.start = self.start.next\n",
    "            self.start.prev = None\n",
    "\n",
    "    def delete_last(self):\n",
    "        temp = self.start\n",
    "        if temp is None:\n",
    "            pass\n",
    "        elif temp.next is None:\n",
    "            self.start = None\n",
    "        else: #if one or more element\n",
    "            while temp.next is not None:\n",
    "                temp = temp.next\n",
    "            temp.prev.next = None\n",
    "\n",
    "    def delete_item(self, data):\n",
    "        if self.start is None:\n",
    "            pass\n",
    "        else:\n",
    "            temp = self.start\n",
    "            while temp is not None:\n",
    "                if temp.item == data:\n",
    "                    if temp.next is not None:\n",
    "                        temp.next.prev = temp.prev\n",
    "                    if temp.prev is not None:\n",
    "                        temp.prev.next = temp.next\n",
    "                    else:\n",
    "                        self.start = temp.next\n",
    "                    break\n",
    "                temp = temp.next\n",
    "\n",
    "    def __iter__(self):\n",
    "        return DLLIterator(self.start)\n",
    "                \n",
    "class DLLIterator:\n",
    "    def __init__(self, current):\n",
    "        self.current = current\n",
    "\n",
    "    def __iter__(self):\n",
    "        return self\n",
    "\n",
    "    def __next__(self):\n",
    "        if not self.current:\n",
    "            raise StopIteration\n",
    "        data = self.current.item\n",
    "        self.current = self.current.next\n",
    "        return data\n",
    "    "
   ]
  },
  {
   "cell_type": "code",
   "execution_count": 11,
   "id": "399da481-4236-418a-af1f-0c554c8bef4e",
   "metadata": {},
   "outputs": [
    {
     "name": "stdout",
     "output_type": "stream",
     "text": [
      "5 30 "
     ]
    }
   ],
   "source": [
    "myDLL = DLL()\n",
    "myDLL.insert_at_first(30)\n",
    "myDLL.insert_at_first(5)\n",
    "myDLL.display_all()"
   ]
  },
  {
   "cell_type": "code",
   "execution_count": 33,
   "id": "2b7b031a-fa3c-4386-ae75-673b7195da34",
   "metadata": {},
   "outputs": [
    {
     "name": "stdout",
     "output_type": "stream",
     "text": [
      "87 12 12 55 "
     ]
    }
   ],
   "source": [
    "myDLL.insert_at_last(55)\n",
    "myDLL.insert_at_first(12)\n",
    "myDLL.insert_at_first(87)\n",
    "myDLL.display_all()"
   ]
  },
  {
   "cell_type": "code",
   "execution_count": 35,
   "id": "5d2df8db-8ef0-4b17-8f06-99ded8e053c4",
   "metadata": {},
   "outputs": [
    {
     "name": "stdout",
     "output_type": "stream",
     "text": [
      "87 12 12 55 "
     ]
    }
   ],
   "source": [
    "myDLL.insert_after(myDLL.search(5),61)\n",
    "myDLL.display_all()"
   ]
  },
  {
   "cell_type": "code",
   "execution_count": 37,
   "id": "c9e84c72-24bf-43ae-b8e2-6cfd65c6aeea",
   "metadata": {},
   "outputs": [
    {
     "name": "stdout",
     "output_type": "stream",
     "text": [
      "87 12 12 55 68 "
     ]
    }
   ],
   "source": [
    "myDLL.insert_after(myDLL.search(55),68)\n",
    "myDLL.display_all()"
   ]
  },
  {
   "cell_type": "code",
   "execution_count": 39,
   "id": "034470db-1b0d-49cb-a078-05c8ac5b1006",
   "metadata": {},
   "outputs": [
    {
     "name": "stdout",
     "output_type": "stream",
     "text": [
      "87 12 12 55 "
     ]
    }
   ],
   "source": [
    "myDLL.delete_last()\n",
    "myDLL.display_all()"
   ]
  },
  {
   "cell_type": "code",
   "execution_count": 41,
   "id": "bcc5aa50-8ca0-4c02-a89d-b0ff0ec743fa",
   "metadata": {},
   "outputs": [
    {
     "name": "stdout",
     "output_type": "stream",
     "text": [
      "87 12 12 55 "
     ]
    }
   ],
   "source": [
    "myDLL.delete_item(5)\n",
    "myDLL.display_all()"
   ]
  },
  {
   "cell_type": "code",
   "execution_count": 43,
   "id": "e9294016-38b2-49c8-8982-6c6c0c401775",
   "metadata": {},
   "outputs": [
    {
     "name": "stdout",
     "output_type": "stream",
     "text": [
      "12 12 55 "
     ]
    }
   ],
   "source": [
    "myDLL.delete_first()\n",
    "myDLL.display_all()"
   ]
  },
  {
   "cell_type": "code",
   "execution_count": 45,
   "id": "9f7d9e40-b834-4d42-9408-9b779749adfb",
   "metadata": {},
   "outputs": [
    {
     "name": "stdout",
     "output_type": "stream",
     "text": [
      "12 12 55 "
     ]
    }
   ],
   "source": [
    "for x in myDLL:\n",
    "    print(x, end=\" \")"
   ]
  },
  {
   "cell_type": "code",
   "execution_count": 51,
   "id": "98f72308-9e70-4aa8-aa8a-ec0809bcef23",
   "metadata": {},
   "outputs": [],
   "source": [
    "myDLL.delete_last()\n",
    "myDLL.display_all()"
   ]
  },
  {
   "cell_type": "code",
   "execution_count": null,
   "id": "8b61924c-9f6b-46fb-b713-86cd33275a76",
   "metadata": {},
   "outputs": [],
   "source": []
  }
 ],
 "metadata": {
  "kernelspec": {
   "display_name": "Python 3 (ipykernel)",
   "language": "python",
   "name": "python3"
  },
  "language_info": {
   "codemirror_mode": {
    "name": "ipython",
    "version": 3
   },
   "file_extension": ".py",
   "mimetype": "text/x-python",
   "name": "python",
   "nbconvert_exporter": "python",
   "pygments_lexer": "ipython3",
   "version": "3.12.4"
  }
 },
 "nbformat": 4,
 "nbformat_minor": 5
}
