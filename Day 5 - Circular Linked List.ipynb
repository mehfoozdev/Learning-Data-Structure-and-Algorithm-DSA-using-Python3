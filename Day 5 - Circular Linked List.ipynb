{
 "cells": [
  {
   "cell_type": "code",
   "execution_count": 112,
   "id": "ba54b651-4cdb-42c0-bc46-7a06dd743067",
   "metadata": {},
   "outputs": [],
   "source": [
    "class Node:\n",
    "    def __init__(self, item=None, next=None):\n",
    "        self.item = item\n",
    "        self.next = next\n",
    "\n",
    "class CLL:\n",
    "    def __init__(self, last=None):\n",
    "        self.last = last\n",
    "\n",
    "    def isempty(self):\n",
    "        return self.last==None\n",
    "        \n",
    "    def insert_at_start(self, data):\n",
    "        n = Node(data)\n",
    "        if self.isempty():\n",
    "            n.next = n\n",
    "            self.last = n\n",
    "        else:\n",
    "            n.next = self.last.next\n",
    "            self.last.next = n\n",
    "\n",
    "    def insert_at_last(self, data):\n",
    "        n = Node(data)\n",
    "        if self.isempty():\n",
    "            n.next = n\n",
    "            self.last = n\n",
    "        else:\n",
    "            n.next = self.last.next\n",
    "            self.last.next = n\n",
    "            self.last = n\n",
    "\n",
    "    def search(self, data):\n",
    "        if self.isempty():\n",
    "            return None\n",
    "        temp = self.last.next\n",
    "        while temp != self.last:\n",
    "            if temp.item == data:\n",
    "                return temp\n",
    "            temp = temp.next\n",
    "        if temp.item == data:\n",
    "            return temp\n",
    "        return \"Data not found\"\n",
    "\n",
    "    def insert_after(self, temp, data):\n",
    "        if temp is not None:\n",
    "            n = Node(data,temp.next)\n",
    "            temp.next = n\n",
    "            if temp == self.last:\n",
    "                self.last = n\n",
    "\n",
    "    def display_all(self):\n",
    "        if not self.isempty():\n",
    "            temp = self.last.next\n",
    "            while temp != self.last:\n",
    "                print(temp.item, end=\" \")\n",
    "                temp = temp.next\n",
    "            print(temp.item)\n",
    "\n",
    "    def delete_first(self):\n",
    "        if not self.isempty():\n",
    "            if self.last.next == self.last:\n",
    "                self.last = None\n",
    "            else:\n",
    "                self.last.next = self.last.next.next\n",
    "\n",
    "    def delete_last(self):\n",
    "        if not self.isempty():\n",
    "            if self.last.next == self.last:\n",
    "                self.last = None\n",
    "            else:\n",
    "                temp = self.last.next\n",
    "                while temp.next != self.last:\n",
    "                    temp = temp.next\n",
    "                temp.next = self.last.next\n",
    "                self.last = temp.next\n",
    "                    \n",
    "\n",
    "    def delete_item(self, data):\n",
    "        if not self.isempty():\n",
    "            if self.last.next == self.last:\n",
    "                if self.last.item == data:\n",
    "                    self.last = None\n",
    "            else:\n",
    "                if self.last.next.item == data:\n",
    "                    self.delete_first()\n",
    "                else:\n",
    "                    temp = self.last.next\n",
    "                    while temp.next != self.last:\n",
    "                        if temp.next == self.last:\n",
    "                            if self.last.item==data:\n",
    "                                self.delete_last()\n",
    "                            break\n",
    "                        if temp.next.item == data:\n",
    "                            temp.next = temp.next.next\n",
    "                            break\n",
    "                        temp = temp.next\n",
    "                    return \"Item not found\"\n",
    "\n",
    "    def __iter__(self):\n",
    "        if self.last == None:\n",
    "            return CLLIterator(None)\n",
    "        else:\n",
    "            return CLLIterator(self.last.next)\n",
    "                        \n",
    "\n",
    "class CLLIterator:\n",
    "    def __init__(self, current, start=None):\n",
    "        self.current = current\n",
    "        self.start = start\n",
    "        self.count = 0\n",
    "\n",
    "    def __iter__(self):\n",
    "        return self\n",
    "\n",
    "    def __next__(self):\n",
    "        if self.current == None:\n",
    "            raise StopIteration\n",
    "        data = self.current.item\n",
    "        self.current = self.current.next\n",
    "        if self.current == self.start and self.count == 1:\n",
    "            raise StopIteration\n",
    "        else:\n",
    "            self.count = 1\n",
    "        return data\n",
    "        "
   ]
  },
  {
   "cell_type": "code",
   "execution_count": 114,
   "id": "20f92288-77c3-4b9b-81d5-b04988b6b791",
   "metadata": {},
   "outputs": [
    {
     "name": "stdout",
     "output_type": "stream",
     "text": [
      "21 55 25 50 89\n"
     ]
    }
   ],
   "source": [
    "data = CLL()\n",
    "data.insert_at_start(50)\n",
    "data.insert_at_start(25)\n",
    "data.insert_at_start(55)\n",
    "data.insert_at_last(89)\n",
    "data.insert_at_start(21)\n",
    "data.display_all()"
   ]
  },
  {
   "cell_type": "code",
   "execution_count": 116,
   "id": "a20f179d-661f-4166-9aa9-6e8e964ec4cc",
   "metadata": {},
   "outputs": [
    {
     "name": "stdout",
     "output_type": "stream",
     "text": [
      "21 55 25 50 89 97\n"
     ]
    }
   ],
   "source": [
    "data.insert_at_last(97)\n",
    "data.display_all()\n"
   ]
  },
  {
   "cell_type": "code",
   "execution_count": 118,
   "id": "b01fd46e-9f64-4d32-a9dd-1715987acf17",
   "metadata": {},
   "outputs": [
    {
     "name": "stdout",
     "output_type": "stream",
     "text": [
      "21 55 25 105 50 89 97\n"
     ]
    }
   ],
   "source": [
    "data.insert_after(data.search(25), 105)\n",
    "data.display_all()\n"
   ]
  },
  {
   "cell_type": "code",
   "execution_count": 120,
   "id": "ac5d511f-baa1-47c7-850d-fb7364e64ede",
   "metadata": {},
   "outputs": [
    {
     "name": "stdout",
     "output_type": "stream",
     "text": [
      "55 25 105 50 89 97\n"
     ]
    }
   ],
   "source": [
    "#delete first\n",
    "data.delete_first()\n",
    "data.display_all()\n"
   ]
  },
  {
   "cell_type": "code",
   "execution_count": 122,
   "id": "55933105-4561-449b-bf3e-f1c9243f0233",
   "metadata": {},
   "outputs": [
    {
     "name": "stdout",
     "output_type": "stream",
     "text": [
      "25 105 50 89 55\n"
     ]
    }
   ],
   "source": [
    "#delete last\n",
    "data.delete_last()\n",
    "data.display_all()\n"
   ]
  },
  {
   "cell_type": "code",
   "execution_count": null,
   "id": "81ad94cd-c6df-49da-9cf3-0b914ad2fcda",
   "metadata": {},
   "outputs": [],
   "source": [
    "#delete item\n",
    "data.delete_item(89)\n",
    "data.display_all()\n"
   ]
  },
  {
   "cell_type": "code",
   "execution_count": null,
   "id": "cadb1999-f08e-452a-b44b-610a609b5b5b",
   "metadata": {},
   "outputs": [],
   "source": [
    "# #display list using class iterator\n",
    "# for x in data:\n",
    "#     print(x, end=\" \")\n"
   ]
  },
  {
   "cell_type": "code",
   "execution_count": null,
   "id": "8e09e857-2eae-42c0-804e-d7d7260a6295",
   "metadata": {},
   "outputs": [],
   "source": []
  }
 ],
 "metadata": {
  "kernelspec": {
   "display_name": "Python 3 (ipykernel)",
   "language": "python",
   "name": "python3"
  },
  "language_info": {
   "codemirror_mode": {
    "name": "ipython",
    "version": 3
   },
   "file_extension": ".py",
   "mimetype": "text/x-python",
   "name": "python",
   "nbconvert_exporter": "python",
   "pygments_lexer": "ipython3",
   "version": "3.12.4"
  }
 },
 "nbformat": 4,
 "nbformat_minor": 5
}
